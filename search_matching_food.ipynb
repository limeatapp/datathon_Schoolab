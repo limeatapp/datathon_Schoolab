{
 "cells": [
  {
   "cell_type": "markdown",
   "metadata": {},
   "source": [
    "Ce Notebook contient 2 fonctions \"search_matching_food\" & \"search_top_n_matching_food\" qui permettent de trouver l'ingrédient ou les ingrédients de la BDD fournies qui sont les plus proches d'un String\n",
    "\n",
    "Exemple : search_matching_food(\"apple\", ingredients_db, index), renvoie l'ingrédient de la base de donnée qui semble correspondre à \"Apple\""
   ]
  },
  {
   "cell_type": "markdown",
   "metadata": {},
   "source": [
    "# Imports et outils"
   ]
  },
  {
   "cell_type": "code",
   "execution_count": 11,
   "metadata": {},
   "outputs": [],
   "source": [
    "import pandas as pd\n",
    "import numpy as np\n",
    "import faiss\n",
    "from sentence_transformers import SentenceTransformer\n",
    "from sklearn.feature_extraction.text import TfidfVectorizer\n",
    "from sklearn.metrics.pairwise import cosine_similarity\n",
    "import re\n",
    "import nltk\n",
    "from nltk.corpus import stopwords\n",
    "from nltk.tokenize import word_tokenize\n",
    "from nltk.stem import WordNetLemmatizer"
   ]
  },
  {
   "cell_type": "code",
   "execution_count": 2,
   "metadata": {},
   "outputs": [],
   "source": [
    "# Load Ingredients DataBase\n",
    "ingredients_db = pd.read_csv(\"data/ingredients_db.csv\", sep=';')\n"
   ]
  },
  {
   "cell_type": "markdown",
   "metadata": {},
   "source": [
    "# Fonctions"
   ]
  },
  {
   "cell_type": "code",
   "execution_count": 3,
   "metadata": {},
   "outputs": [],
   "source": [
    "def init_model(data_frame: pd.DataFrame):\n",
    "    \"\"\"\n",
    "    Creates a FAISS index from the ingredient names in the DataFrame.\n",
    "\n",
    "    Args:\n",
    "        data_frame (pd.DataFrame): DataFrame containing ingredient information with columns: \"EnglishFoodName\" (Name), \"Groupe\" (Group), \"Sous-groupe\" (Subgroup), \"Id_CIQUAL\".\n",
    "\n",
    "    Returns:\n",
    "        tuple: A tuple containing the FAISS index and the embeddings, or None if the DataFrame is empty.\n",
    "    \"\"\"\n",
    "    ingredients_names = data_frame['EnglishFoodName'].apply(preprocess_text).tolist()\n",
    "    \n",
    "    if len(ingredients_names) == 0:\n",
    "        return None\n",
    "    \n",
    "    embeddings = embeddings_model.encode(ingredients_names, convert_to_tensor=True).cpu().numpy()\n",
    "    vector_dimension = embeddings.shape[1]\n",
    "    \n",
    "    index = faiss.IndexFlatL2(vector_dimension)\n",
    "    faiss.normalize_L2(embeddings)\n",
    "    index.add(embeddings)\n",
    "    \n",
    "    return (index, embeddings)\n",
    "\n",
    "def preprocess_text(text):\n",
    "    \"\"\"\n",
    "    Preprocesses the input text for improved search performance.\n",
    "\n",
    "    This function performs the following steps:\n",
    "    - Converts text to lowercase.\n",
    "    - Removes punctuation.\n",
    "    - Tokenizes the text into words.\n",
    "    - Removes English stop words.\n",
    "    - Lemmatizes the tokens.\n",
    "\n",
    "    Args:\n",
    "        text (str): The text to preprocess.\n",
    "\n",
    "    Returns:\n",
    "        str: The preprocessed text as a single string.\n",
    "    \"\"\"\n",
    "    text = text.lower()\n",
    "    text = re.sub(r'[^\\w\\s]', '', text)\n",
    "    tokens = word_tokenize(text)\n",
    "    stop_words = set(stopwords.words('english'))\n",
    "    tokens = [word for word in tokens if word not in stop_words]\n",
    "    lemmatizer = WordNetLemmatizer()\n",
    "    tokens = [lemmatizer.lemmatize(word) for word in tokens]\n",
    "    return ' '.join(tokens)\n",
    "\n",
    "\n",
    "embeddings_model = SentenceTransformer(\"all-mpnet-base-v2\", tokenizer_kwargs={\"clean_up_tokenization_spaces\": True})\n"
   ]
  },
  {
   "cell_type": "code",
   "execution_count": 9,
   "metadata": {},
   "outputs": [],
   "source": [
    "def search_matching_food(\n",
    "    aliment: str,\n",
    "    data_frame: pd.DataFrame,\n",
    "    index: faiss.IndexFlatL2\n",
    ") -> dict | None:\n",
    "    \"\"\"\n",
    "    Searches for a food item in the FAISS index using a hybrid approach (semantic and TF-IDF).\n",
    "\n",
    "    This function encodes the input food item, searches for the most similar items in the FAISS index,\n",
    "    combines the semantic similarity with TF-IDF similarity, and returns the best match with additional information.\n",
    "\n",
    "    Args:\n",
    "        aliment (str): The food item to search for.\n",
    "        data_frame (pd.DataFrame): DataFrame containing ingredient information with columns:\n",
    "            'FoodID', 'FoodName', 'EnglishFoodName', 'FoodGroupName', 'FoodSubSubGroup'.\n",
    "        index (faiss.IndexFlatL2): Precomputed FAISS index containing embeddings of the ingredient names.\n",
    "\n",
    "    Returns:\n",
    "        (dict | None): A dictionary containing:\n",
    "            'FoodID', 'FoodName', 'EnglishFoodName', 'FoodGroupName', 'FoodSubSubGroup', 'Score'\n",
    "        or None if no suitable match is found.\n",
    "    \"\"\"\n",
    "    aliment_processed = preprocess_text(aliment)\n",
    "\n",
    "    if data_frame.empty:\n",
    "        return None\n",
    "\n",
    "    aliment_vector = embeddings_model.encode(aliment_processed, convert_to_tensor=True).cpu().numpy().reshape(1, -1)\n",
    "    faiss.normalize_L2(aliment_vector)\n",
    "\n",
    "    k = min(5, len(data_frame))\n",
    "    distances, indices = index.search(aliment_vector, k)\n",
    "\n",
    "    tfidf = TfidfVectorizer()\n",
    "    tfidf_matrix = tfidf.fit_transform(data_frame['EnglishFoodName'].apply(preprocess_text))\n",
    "    aliment_tfidf = tfidf.transform([aliment_processed])\n",
    "    tfidf_similarities = cosine_similarity(aliment_tfidf, tfidf_matrix).flatten()\n",
    "\n",
    "    indices_flat = indices.flatten()\n",
    "    combined_scores = (1 - distances.flatten() / 2) * 0.7 + tfidf_similarities[indices_flat] * 0.3\n",
    "    best_index = combined_scores.argmax()\n",
    "    best_match_index = indices_flat[best_index]\n",
    "    best_score = combined_scores[best_index]\n",
    "\n",
    "    if best_score < 0.5:\n",
    "        return None\n",
    "\n",
    "    result = {\n",
    "        'FoodID': data_frame['FoodID'].iloc[best_match_index],\n",
    "        'FoodName': data_frame['FoodName'].iloc[best_match_index],\n",
    "        'EnglishFoodName': data_frame['EnglishFoodName'].iloc[best_match_index],\n",
    "        'FoodGroupName': data_frame['FoodGroupName'].iloc[best_match_index],\n",
    "        'FoodSubGroup': data_frame['FoodSubGroup'].iloc[best_match_index],\n",
    "        'Score': best_score\n",
    "    }\n",
    "\n",
    "    return result\n",
    "\n",
    "\n",
    "def search_top_n_matching_food(\n",
    "    aliment: str,\n",
    "    data_frame: pd.DataFrame,\n",
    "    index: faiss.IndexFlatL2,\n",
    "    topn: int = 1\n",
    ") -> list[dict] | None:\n",
    "    \"\"\"\n",
    "    Searches for the top N food items in the FAISS index using a hybrid approach (semantic and TF-IDF).\n",
    "\n",
    "    This function encodes the input food item, searches for the most similar items in the FAISS index,\n",
    "    combines the semantic similarity with TF-IDF similarity, and returns the top N matches with additional information.\n",
    "\n",
    "    Args:\n",
    "        aliment (str): The food item to search for.\n",
    "        data_frame (pd.DataFrame): DataFrame containing ingredient information with columns:\n",
    "            'FoodID', 'FoodName', 'EnglishFoodName', 'FoodGroupName', 'FoodSubGroup'.\n",
    "        index (faiss.IndexFlatL2): Precomputed FAISS index containing embeddings of the ingredient names.\n",
    "        topn (int, optional): The number of top matches to return. Defaults to 1.\n",
    "\n",
    "    Returns:\n",
    "        (list[dict] | None): A list of dictionaries, each containing:\n",
    "            'FoodID', 'Name', 'English Name', 'Group', 'Sub Group', and 'Score' of a match,\n",
    "        or None if no suitable matches are found.\n",
    "    \"\"\"\n",
    "    aliment_processed = preprocess_text(aliment)\n",
    "\n",
    "    if data_frame.empty:\n",
    "        return None\n",
    "\n",
    "    aliment_vector = embeddings_model.encode(aliment_processed, convert_to_tensor=True).cpu().numpy().reshape(1, -1)\n",
    "    faiss.normalize_L2(aliment_vector)\n",
    "\n",
    "    k = min(max(topn, 15), len(data_frame))\n",
    "    distances, indices = index.search(aliment_vector, k)\n",
    "\n",
    "    tfidf = TfidfVectorizer()\n",
    "    tfidf_matrix = tfidf.fit_transform(data_frame['EnglishFoodName'].apply(preprocess_text))\n",
    "    aliment_tfidf = tfidf.transform([aliment_processed])\n",
    "    tfidf_similarities = cosine_similarity(aliment_tfidf, tfidf_matrix).flatten()\n",
    "\n",
    "    indices_flat = indices.flatten()\n",
    "    combined_scores = (1 - distances.flatten() / 2) * 0.7 + tfidf_similarities[indices_flat] * 0.3\n",
    "\n",
    "    sorted_indices = np.argsort(combined_scores)[::-1]\n",
    "    results = []\n",
    "    for i in sorted_indices[:topn]:\n",
    "        match_index = indices_flat[i]\n",
    "        score = combined_scores[i]\n",
    "\n",
    "        if score < 0.3:\n",
    "            continue\n",
    "\n",
    "        result = {\n",
    "            'FoodID': data_frame['FoodID'].iloc[match_index],\n",
    "            'FoodName': data_frame['FoodName'].iloc[match_index],\n",
    "            'EnglishFoodName': data_frame['EnglishFoodName'].iloc[match_index],\n",
    "            'FoodGroupName': data_frame['FoodGroupName'].iloc[match_index],\n",
    "            'FoodSubGroup': data_frame['FoodSubGroup'].iloc[match_index],\n",
    "            'Score': score\n",
    "        }\n",
    "        results.append(result)\n",
    "\n",
    "    return results if results else None\n"
   ]
  },
  {
   "cell_type": "markdown",
   "metadata": {},
   "source": [
    "# Exemples"
   ]
  },
  {
   "cell_type": "markdown",
   "metadata": {},
   "source": [
    "Initialiser le modèle"
   ]
  },
  {
   "cell_type": "code",
   "execution_count": 5,
   "metadata": {},
   "outputs": [],
   "source": [
    "index, embeddings = init_model(ingredients_db)"
   ]
  },
  {
   "cell_type": "markdown",
   "metadata": {},
   "source": [
    "Chercher un ingrédient"
   ]
  },
  {
   "cell_type": "code",
   "execution_count": null,
   "metadata": {},
   "outputs": [
    {
     "data": {
      "text/plain": [
       "{'FoodID': 13038,\n",
       " 'FoodName': 'Compote de pomme',\n",
       " 'EnglishFoodName': 'Apple compote',\n",
       " 'FoodGroupName': 'Fruits et légumes',\n",
       " 'FoodSubGroup': 'fruits',\n",
       " 'Score': 0.5686411427708987}"
      ]
     },
     "execution_count": 7,
     "metadata": {},
     "output_type": "execute_result"
    }
   ],
   "source": [
    "search_matching_food(\"apple\", ingredients_db, index)"
   ]
  },
  {
   "cell_type": "markdown",
   "metadata": {},
   "source": [
    "Chercher les top n ingrédients correspondants"
   ]
  },
  {
   "cell_type": "code",
   "execution_count": 13,
   "metadata": {},
   "outputs": [
    {
     "data": {
      "text/plain": [
       "[{'FoodID': 13111,\n",
       "  'FoodName': 'Pomme, sèche',\n",
       "  'EnglishFoodName': 'Apple, dried',\n",
       "  'FoodGroupName': 'Fruits et légumes',\n",
       "  'FoodSubGroup': 'fruits',\n",
       "  'Score': 0.5777404961097088},\n",
       " {'FoodID': 13038,\n",
       "  'FoodName': 'Compote de pomme',\n",
       "  'EnglishFoodName': 'Apple compote',\n",
       "  'FoodGroupName': 'Fruits et légumes',\n",
       "  'FoodSubGroup': 'fruits',\n",
       "  'Score': 0.5686411427708987},\n",
       " {'FoodID': 23490,\n",
       "  'FoodName': 'Tarte ou tartelette aux pommes',\n",
       "  'EnglishFoodName': 'Apple tart',\n",
       "  'FoodGroupName': 'Produits sucrés et desserts',\n",
       "  'FoodSubGroup': 'gâteaux et pâtisseries',\n",
       "  'Score': 0.5490563004222749},\n",
       " {'FoodID': 23493,\n",
       "  'FoodName': 'Crumble aux pommes',\n",
       "  'EnglishFoodName': 'Apple crumble',\n",
       "  'FoodGroupName': 'Produits sucrés et desserts',\n",
       "  'FoodSubGroup': 'gâteaux et pâtisseries',\n",
       "  'Score': 0.5462155410135974},\n",
       " {'FoodID': 23480,\n",
       "  'FoodName': 'Chausson aux pommes',\n",
       "  'EnglishFoodName': 'Apple turnover',\n",
       "  'FoodGroupName': 'Produits sucrés et desserts',\n",
       "  'FoodSubGroup': 'viennoiseries',\n",
       "  'Score': 0.5412164398516406}]"
      ]
     },
     "execution_count": 13,
     "metadata": {},
     "output_type": "execute_result"
    }
   ],
   "source": [
    "search_top_n_matching_food(\"apple\", ingredients_db, index, 5)"
   ]
  }
 ],
 "metadata": {
  "kernelspec": {
   "display_name": ".venv",
   "language": "python",
   "name": "python3"
  },
  "language_info": {
   "codemirror_mode": {
    "name": "ipython",
    "version": 3
   },
   "file_extension": ".py",
   "mimetype": "text/x-python",
   "name": "python",
   "nbconvert_exporter": "python",
   "pygments_lexer": "ipython3",
   "version": "3.12.3"
  }
 },
 "nbformat": 4,
 "nbformat_minor": 2
}
